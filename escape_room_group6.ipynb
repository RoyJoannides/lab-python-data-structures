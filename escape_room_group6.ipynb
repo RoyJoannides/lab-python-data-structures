{
  "cells": [
    {
      "cell_type": "markdown",
      "metadata": {
        "id": "view-in-github",
        "colab_type": "text"
      },
      "source": [
        "<a href=\"https://colab.research.google.com/github/RoyJoannides/lab-python-data-structures/blob/main/escape_room_group6.ipynb\" target=\"_parent\"><img src=\"https://colab.research.google.com/assets/colab-badge.svg\" alt=\"Open In Colab\"/></a>"
      ]
    },
    {
      "cell_type": "code",
      "execution_count": null,
      "id": "57987513-2a29-42b5-8b14-6fcabe7631fa",
      "metadata": {
        "id": "57987513-2a29-42b5-8b14-6fcabe7631fa"
      },
      "outputs": [],
      "source": [
        "# Define rooms and items\n",
        "# First room (Game room)\n",
        "\n",
        "# Rooms\n",
        "game_room = {\n",
        "    \"name\": \"game room\",\n",
        "    \"type\": \"room\",\n",
        "}\n",
        "bedroom_1 = {\n",
        "    \"name\": \"bedroom 1\",\n",
        "    \"type\": \"room\",\n",
        "}\n",
        "bedroom_2 = {\n",
        "    \"name\": \"bedroom 2\",\n",
        "    \"type\": \"room\",\n",
        "}\n",
        "living_room = {\n",
        "    \"name\": \"living room\",\n",
        "    \"type\": \"room\"\n",
        "}\n",
        "outside = {\n",
        "    \"name\": \"outside\",\n",
        "    \"type\": \"room\",\n",
        "}\n",
        "\n",
        "# Doors\n",
        "door_a = {\n",
        "    \"name\": \"door a\",\n",
        "    \"type\": \"door\",\n",
        "}\n",
        "door_b = {\n",
        "    \"name\": \"door b\",\n",
        "    \"type\": \"door\",\n",
        "}\n",
        "door_c = {\n",
        "    \"name\": \"door c\",\n",
        "    \"type\": \"door\",\n",
        "}\n",
        "door_d = {\n",
        "    \"name\": \"door d\",\n",
        "    \"type\": \"door\",\n",
        "}\n",
        "#Keys\n",
        "key_a = {\n",
        "    \"name\": \"key for door a\",\n",
        "    \"type\": \"key\",\n",
        "    \"target\": door_a,\n",
        "}\n",
        "key_b = {\n",
        "    \"name\": \"key b\",\n",
        "    \"type\": \"key\",\n",
        "    \"target\": door_b,\n",
        "}\n",
        "key_c = {\n",
        "    \"name\": \"key c\",\n",
        "    \"type\": \"key\",\n",
        "    \"target\": door_c,\n",
        "}\n",
        "key_d = {\n",
        "    \"name\": \"key d\",\n",
        "    \"type\": \"key\",\n",
        "    \"target\": door_d,\n",
        "}\n",
        "# Furniture\n",
        "\n",
        "piano = {\n",
        "    \"name\": \"piano\",\n",
        "    \"type\": \"furniture\",\n",
        "}\n",
        "queen_bed = {\n",
        "    \"name\": \"queen bed\",\n",
        "    \"type\": \"furniture\",\n",
        "}\n",
        "double_bed = {\n",
        "    \"name\": \"double bed\",\n",
        "    \"type\": \"furniture\",\n",
        "}\n",
        "dresser = {\n",
        "    \"name\": \"dresser\",\n",
        "    \"type\": \"furniture\",\n",
        "}\n",
        "dining_table = {\n",
        "    \"name\": \"dining table\",\n",
        "    \"type\": \"furniture\",\n",
        "}\n",
        "couch = {\n",
        "    \"name\": \"couch\",\n",
        "    \"type\": \"furniture\",\n",
        "}\n",
        "\n",
        "\n",
        "all_rooms = [game_room, bedroom_1, bedroom_2, living_room, outside]\n",
        "all_doors = [door_a, door_b, door_c, door_d]\n",
        "\n",
        "# define which items/rooms are related\n",
        "object_relations = {\n",
        "    \"game room\": [couch, piano, door_a],\n",
        "    \"piano\": [key_a],\n",
        "    \"couch\": [],\n",
        "    \"door a\": [game_room, bedroom_1],\n",
        "    # bedroom_1\n",
        "    \"bedroom 1\": [door_b, door_c, queen_bed, door_a],\n",
        "    \"queen bed\": [key_b],\n",
        "    \"door b\": [bedroom_1, bedroom_2],\n",
        "    \"door c\": [bedroom_1, living_room],\n",
        "    # bedroom_2\n",
        "    \"bedroom 2\": [dresser, double_bed, door_b],\n",
        "    \"double bed\": [key_c],\n",
        "    \"dresser\": [key_d],\n",
        "    \"door b\": [bedroom_1, bedroom_2],\n",
        "    # living room\n",
        "    \"living room\": [dining_table, door_d],\n",
        "    \"door d\": [living_room, outside],\n",
        "    \"outside\": [door_d]\n",
        "}\n",
        "\n",
        "# define game state\n",
        "INIT_GAME_STATE = {\n",
        "    \"current_room\": game_room,\n",
        "    \"keys_collected\": [],\n",
        "    \"target_room\": outside,\n",
        "}\n",
        "\n"
      ]
    },
    {
      "cell_type": "code",
      "execution_count": null,
      "id": "61c55a91-e69c-492c-841c-25060b634d86",
      "metadata": {
        "id": "61c55a91-e69c-492c-841c-25060b634d86"
      },
      "outputs": [],
      "source": [
        "\n",
        "def play_room(room):\n",
        "\n",
        "    print(\"You are in the \",room[\"name\"])\n",
        "    if game_state[\"current_room\"] == game_state[\"target_room\"]:\n",
        "        print(\"You win!\")\n",
        "    else:\n",
        "        room_items = [i[\"name\"] for i in object_relations[room[\"name\"]]]\n",
        "        player_input = input(\"Would you like to explore for items or examine an item?\")\n",
        "        check = False\n",
        "        while check == False:\n",
        "            if player_input == \"explore\" or player_input == \"examine\":\n",
        "                if player_input == \"explore\":\n",
        "                    print(player_input)\n",
        "                    explore(room)\n",
        "                    play_room(room)\n",
        "                    check = True\n",
        "                elif player_input == \"examine\":\n",
        "                    print(player_input)\n",
        "                    examine(object_relations, room)\n",
        "                    check = True\n",
        "\n",
        "            else:\n",
        "                player_input = input(\"Please choose either to explore or examine\")\n",
        "\n",
        "    return\n"
      ]
    },
    {
      "cell_type": "code",
      "execution_count": null,
      "id": "d5bde8c0-f86b-4d45-9f6d-fa9446e23be7",
      "metadata": {
        "id": "d5bde8c0-f86b-4d45-9f6d-fa9446e23be7"
      },
      "outputs": [],
      "source": [
        "def explore(room):\n",
        "    room_items = [i[\"name\"] for i in object_relations[room[\"name\"]]]\n",
        "    print(\"After exploring the\", room[\"name\"], \"you find:\", \", \".join(room_items))\n",
        "\n"
      ]
    },
    {
      "cell_type": "code",
      "execution_count": null,
      "id": "b0ee316c-e1c0-412e-8cd2-f812f0fb5722",
      "metadata": {
        "id": "b0ee316c-e1c0-412e-8cd2-f812f0fb5722"
      },
      "outputs": [],
      "source": [
        "def change_room(room, door):\n",
        "    connecting_rooms = object_relations[door[\"name\"]]\n",
        "    for connected_room in connecting_rooms:\n",
        "        if connected_room[\"name\"] != room[\"name\"]:\n",
        "            game_state[\"current_room\"] = connected_room\n",
        "            #print(\"You enter\", connected_room[\"name\"])\n",
        "            return connected_room  # Return the new room\n",
        "    return room\n"
      ]
    },
    {
      "cell_type": "code",
      "execution_count": null,
      "id": "2ea8bb12-2497-48d2-a6d3-5b1b641f463d",
      "metadata": {
        "id": "2ea8bb12-2497-48d2-a6d3-5b1b641f463d"
      },
      "outputs": [],
      "source": [
        "def examine(object_relations, room):\n",
        "    room_items = [i[\"name\"] for i in object_relations[room[\"name\"]]]\n",
        "    answer = True\n",
        "\n",
        "    while answer:\n",
        "\n",
        "        examine_item = input(\"Which item would you like to examine? \")\n",
        "\n",
        "        if examine_item in room_items:\n",
        "            for item in object_relations[room[\"name\"]]:\n",
        "                if item[\"name\"] == examine_item and item[\"type\"] == \"door\":\n",
        "                    print(\"You are examining a door.\")\n",
        "                    if len(game_state[\"keys_collected\"]) > 0:\n",
        "                        for key in game_state[\"keys_collected\"]:\n",
        "                            if key[\"target\"] == item:\n",
        "                                user_input = input(\"You have the key, would you like to unlock the door? (yes/no)\")\n",
        "                                if user_input == \"yes\":\n",
        "                                    change_room(room, item)\n",
        "                                    room = game_state[\"current_room\"]\n",
        "                                    answer = False\n",
        "                                else:\n",
        "                                    print(\"You stay in the same room\")\n",
        "                                break\n",
        "\n",
        "                        else:\n",
        "                            print(\"you dont have the key\")\n",
        "                            break\n",
        "\n",
        "                elif item[\"name\"] == examine_item and item[\"type\"] == \"furniture\":\n",
        "                    if object_relations[examine_item]:\n",
        "                        key_found = object_relations[examine_item][0]\n",
        "                        print(\"You found a key!\")\n",
        "                        game_state[\"keys_collected\"].append(key_found)\n",
        "                        object_relations[examine_item] = []\n",
        "                    else:\n",
        "                        print(f\"The object {examine_item} doesn't contain anything.\")\n",
        "\n",
        "                    while True:\n",
        "                        user_input = input(\"Would you like to examine another object? (Yes/No): \").lower()\n",
        "                        if user_input == \"yes\":\n",
        "                            break\n",
        "                        elif user_input == \"no\":\n",
        "                            answer = False\n",
        "                            break\n",
        "                        else:\n",
        "                            print(\"Invalid input. Please enter 'yes' or 'no'.\")\n",
        "\n",
        "        else:\n",
        "            print(\"Invalid item name. Please try again.\\n\")\n",
        "\n",
        "            user_input = input(\"Would you like to examine another object? (Yes/No): \").lower()\n",
        "            if user_input != \"yes\":\n",
        "                answer = False\n",
        "    play_room(room)\n",
        "\n",
        "\n",
        "\n"
      ]
    },
    {
      "cell_type": "code",
      "execution_count": null,
      "id": "50a9073e-8638-49a8-943f-0885b6f1240c",
      "metadata": {
        "id": "50a9073e-8638-49a8-943f-0885b6f1240c",
        "outputId": "df758536-30d1-4483-f620-803dc7ccedba"
      },
      "outputs": [
        {
          "name": "stdout",
          "output_type": "stream",
          "text": [
            "You are in the  game room\n"
          ]
        },
        {
          "name": "stdin",
          "output_type": "stream",
          "text": [
            "Would you like to explore for items or examine an item? examine\n"
          ]
        },
        {
          "name": "stdout",
          "output_type": "stream",
          "text": [
            "examine\n"
          ]
        },
        {
          "name": "stdin",
          "output_type": "stream",
          "text": [
            "Which item would you like to examine?  piano\n"
          ]
        },
        {
          "name": "stdout",
          "output_type": "stream",
          "text": [
            "You found a key!\n"
          ]
        },
        {
          "name": "stdin",
          "output_type": "stream",
          "text": [
            "Would you like to examine another object? (Yes/No):  yes\n",
            "Which item would you like to examine?  door a\n"
          ]
        },
        {
          "name": "stdout",
          "output_type": "stream",
          "text": [
            "You are examining a door.\n"
          ]
        },
        {
          "name": "stdin",
          "output_type": "stream",
          "text": [
            "You have the key, would you like to unlock the door? (yes/no) yes\n"
          ]
        },
        {
          "name": "stdout",
          "output_type": "stream",
          "text": [
            "You are in the  bedroom 1\n"
          ]
        },
        {
          "name": "stdin",
          "output_type": "stream",
          "text": [
            "Would you like to explore for items or examine an item? examine\n"
          ]
        },
        {
          "name": "stdout",
          "output_type": "stream",
          "text": [
            "examine\n"
          ]
        },
        {
          "name": "stdin",
          "output_type": "stream",
          "text": [
            "Which item would you like to examine?  queen bed\n"
          ]
        },
        {
          "name": "stdout",
          "output_type": "stream",
          "text": [
            "You found a key!\n"
          ]
        },
        {
          "name": "stdin",
          "output_type": "stream",
          "text": [
            "Would you like to examine another object? (Yes/No):  yes\n",
            "Which item would you like to examine?  door b\n"
          ]
        },
        {
          "name": "stdout",
          "output_type": "stream",
          "text": [
            "You are examining a door.\n"
          ]
        },
        {
          "name": "stdin",
          "output_type": "stream",
          "text": [
            "You have the key, would you like to unlock the door? (yes/no) yes\n"
          ]
        },
        {
          "name": "stdout",
          "output_type": "stream",
          "text": [
            "You are in the  bedroom 2\n"
          ]
        },
        {
          "name": "stdin",
          "output_type": "stream",
          "text": [
            "Would you like to explore for items or examine an item? examine\n"
          ]
        },
        {
          "name": "stdout",
          "output_type": "stream",
          "text": [
            "examine\n"
          ]
        },
        {
          "name": "stdin",
          "output_type": "stream",
          "text": [
            "Which item would you like to examine?  dresser\n"
          ]
        },
        {
          "name": "stdout",
          "output_type": "stream",
          "text": [
            "You found a key!\n"
          ]
        },
        {
          "name": "stdin",
          "output_type": "stream",
          "text": [
            "Would you like to examine another object? (Yes/No):  yes\n",
            "Which item would you like to examine?  double bed\n"
          ]
        },
        {
          "name": "stdout",
          "output_type": "stream",
          "text": [
            "You found a key!\n"
          ]
        },
        {
          "name": "stdin",
          "output_type": "stream",
          "text": [
            "Would you like to examine another object? (Yes/No):  yes\n",
            "Which item would you like to examine?  door b\n"
          ]
        },
        {
          "name": "stdout",
          "output_type": "stream",
          "text": [
            "You are examining a door.\n"
          ]
        },
        {
          "name": "stdin",
          "output_type": "stream",
          "text": [
            "You have the key, would you like to unlock the door? (yes/no) yes\n"
          ]
        },
        {
          "name": "stdout",
          "output_type": "stream",
          "text": [
            "You are in the  bedroom 1\n"
          ]
        },
        {
          "name": "stdin",
          "output_type": "stream",
          "text": [
            "Would you like to explore for items or examine an item? examine\n"
          ]
        },
        {
          "name": "stdout",
          "output_type": "stream",
          "text": [
            "examine\n"
          ]
        },
        {
          "name": "stdin",
          "output_type": "stream",
          "text": [
            "Which item would you like to examine?  door c\n"
          ]
        },
        {
          "name": "stdout",
          "output_type": "stream",
          "text": [
            "You are examining a door.\n"
          ]
        },
        {
          "name": "stdin",
          "output_type": "stream",
          "text": [
            "You have the key, would you like to unlock the door? (yes/no) yes\n"
          ]
        },
        {
          "name": "stdout",
          "output_type": "stream",
          "text": [
            "You are in the  living room\n"
          ]
        },
        {
          "name": "stdin",
          "output_type": "stream",
          "text": [
            "Would you like to explore for items or examine an item? examine\n"
          ]
        },
        {
          "name": "stdout",
          "output_type": "stream",
          "text": [
            "examine\n"
          ]
        },
        {
          "name": "stdin",
          "output_type": "stream",
          "text": [
            "Which item would you like to examine?  door d\n"
          ]
        },
        {
          "name": "stdout",
          "output_type": "stream",
          "text": [
            "You are examining a door.\n"
          ]
        },
        {
          "name": "stdin",
          "output_type": "stream",
          "text": [
            "You have the key, would you like to unlock the door? (yes/no) yes\n"
          ]
        },
        {
          "name": "stdout",
          "output_type": "stream",
          "text": [
            "You are in the  outside\n",
            "You win!\n"
          ]
        }
      ],
      "source": [
        "\n",
        "game_state = INIT_GAME_STATE.copy()\n",
        "room = game_state[\"current_room\"]\n",
        "play_room(game_state[\"current_room\"])"
      ]
    },
    {
      "cell_type": "code",
      "execution_count": null,
      "id": "cf36dfc2-a3c3-477c-b90b-bfa4255ca841",
      "metadata": {
        "id": "cf36dfc2-a3c3-477c-b90b-bfa4255ca841"
      },
      "outputs": [],
      "source": []
    }
  ],
  "metadata": {
    "kernelspec": {
      "display_name": "Python 3 (ipykernel)",
      "language": "python",
      "name": "python3"
    },
    "language_info": {
      "codemirror_mode": {
        "name": "ipython",
        "version": 3
      },
      "file_extension": ".py",
      "mimetype": "text/x-python",
      "name": "python",
      "nbconvert_exporter": "python",
      "pygments_lexer": "ipython3",
      "version": "3.8.18"
    },
    "colab": {
      "provenance": [],
      "include_colab_link": true
    }
  },
  "nbformat": 4,
  "nbformat_minor": 5
}